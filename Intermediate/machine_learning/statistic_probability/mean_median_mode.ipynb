{
 "cells": [
  {
   "cell_type": "markdown",
   "metadata": {},
   "source": [
    "# Mean, Median, Mode"
   ]
  },
  {
   "cell_type": "code",
   "execution_count": 1,
   "metadata": {
    "collapsed": false
   },
   "outputs": [
    {
     "name": "stdout",
     "output_type": "stream",
     "text": [
      "26902.8565256\n",
      "27052.4612787\n"
     ]
    },
    {
     "data": {
      "image/png": "[encoded data removed]",
      "text/plain": [
       "<matplotlib.figure.Figure at 0x10fcbbad0>"
      ]
     },
     "metadata": {},
     "output_type": "display_data"
    }
   ],
   "source": [
    "%matplotlib inline\n",
    "#using np as shorthand of numpy\n",
    "import numpy as np\n",
    "\n",
    "#Note: http://docs.scipy.org/doc/numpy-1.10.1/reference/generated/numpy.random.normal.html\n",
    "#mean, standard deviation (spread), size\n",
    "incomes = np.random.normal(27000, 15000, 10000)\n",
    "\n",
    "#Mean\n",
    "print np.mean(incomes)\n",
    "#Median\n",
    "print np.median(incomes)\n",
    "\n",
    "#Segmentize the income data into 50 buckets,\n",
    "#Plots as histogram:\n",
    "\n",
    "import matplotlib.pyplot as plot\n",
    "plot.hist(incomes, 50)\n",
    "plot.show()"
   ]
  },
  {
   "cell_type": "code",
   "execution_count": 2,
   "metadata": {
    "collapsed": false
   },
   "outputs": [
    {
     "name": "stdout",
     "output_type": "stream",
     "text": [
      "Mean: 10025900.2664\n",
      "Median: 27053.4680165\n"
     ]
    }
   ],
   "source": [
    "#adding an outlier\n",
    "incomes = np.append(incomes, [99999999999])\n",
    "#one outlier can caused the data to be skewed\n",
    "print \"Mean: \" + str(np.mean(incomes))\n",
    "#we can use the median to avoid this:\n",
    "print \"Median: \" + str(np.median(incomes))"
   ]
  },
  {
   "cell_type": "code",
   "execution_count": 3,
   "metadata": {
    "collapsed": false
   },
   "outputs": [
    {
     "data": {
      "text/plain": [
       "(array([ 19.]), array([ 14.]))"
      ]
     },
     "execution_count": 3,
     "metadata": {},
     "output_type": "execute_result"
    }
   ],
   "source": [
    "from scipy import stats\n",
    "\n",
    "#Understanding mode\n",
    "ages = np.random.randint(18, high=90, size= 500)\n",
    "#common value - ocurences \n",
    "stats.mode(ages)\n"
   ]
  }
 ],
 "metadata": {
  "kernelspec": {
   "display_name": "Python 2",
   "language": "python",
   "name": "python2"
  },
  "language_info": {
   "codemirror_mode": {
    "name": "ipython",
    "version": 2
   },
   "file_extension": ".py",
   "mimetype": "text/x-python",
   "name": "python",
   "nbconvert_exporter": "python",
   "pygments_lexer": "ipython2",
   "version": "2.7.6"
  }
 },
 "nbformat": 4,
 "nbformat_minor": 0
}
