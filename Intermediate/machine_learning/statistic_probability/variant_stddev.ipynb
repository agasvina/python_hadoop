{
 "cells": [
  {
   "cell_type": "markdown",
   "metadata": {},
   "source": [
    "# Standard Deviation and Variant\n",
    "\n",
    "* Histogram shows many information "
   ]
  },
  {
   "cell_type": "markdown",
   "metadata": {},
   "source": [
    "### Variance \n",
    "* Variance measures how **spread-out** the data is.\n",
    "* Variance is simply the average of the squared differences from the mean"
   ]
  },
  {
   "cell_type": "code",
   "execution_count": 1,
   "metadata": {
    "collapsed": false
   },
   "outputs": [
    {
     "name": "stdout",
     "output_type": "stream",
     "text": [
      "5.04\n"
     ]
    }
   ],
   "source": [
    "%matplotlib inline\n",
    "data = [1,4,5,4,8]\n",
    "mean = float(sum(data))/len(data)\n",
    "\n",
    "#Find the differences from the mean:\n",
    "diff = []\n",
    "for i in range(0, len(data)):\n",
    "    diff.append(data[i]-mean)\n",
    "\n",
    "#Find the squared differences:\n",
    "sqr_diff = []\n",
    "for i in diff:\n",
    "    sqr_diff.append(i*i)\n",
    "\n",
    "#Find the variance:\n",
    "variance = sum(sqr_diff)/len(sqr_diff)\n",
    "print variance"
   ]
  },
  {
   "cell_type": "markdown",
   "metadata": {},
   "source": [
    "**Standard deviation is just the square root of the variance**\n",
    "* This is usually used as a way to identify outliers. Data points that lie more than one standard deviation from mean can be consider unusual.\n",
    "* You can talk about how extreme a data point is by talking about **how many sigmas** away from the mean"
   ]
  },
  {
   "cell_type": "markdown",
   "metadata": {},
   "source": [
    "### Population Vs. Sample\n",
    "* If you're working with a sample data instead of an entire data set (i.e. the entire population), then you want to use **sample variance** instead of the **population variance**"
   ]
  },
  {
   "cell_type": "code",
   "execution_count": 2,
   "metadata": {
    "collapsed": false
   },
   "outputs": [
    {
     "name": "stdout",
     "output_type": "stream",
     "text": [
      "5.04 6.3\n"
     ]
    }
   ],
   "source": [
    "#Example: \n",
    "#computed the population variance:\n",
    "population_variance = sum(sqr_diff)/len(sqr_diff)\n",
    "#computed the sample variance:\n",
    "#You diveide the squared variance by N-1\n",
    "sample_variance = sum(sqr_diff)/(len(sqr_diff)-1)\n",
    "\n",
    "print population_variance, sample_variance"
   ]
  },
  {
   "cell_type": "markdown",
   "metadata": {},
   "source": [
    "## Examples"
   ]
  },
  {
   "cell_type": "code",
   "execution_count": 3,
   "metadata": {
    "collapsed": false
   },
   "outputs": [
    {
     "data": {
      "image/png": "[encoded data removed]",
      "text/plain": [
       "<matplotlib.figure.Figure at 0x110813cd0>"
      ]
     },
     "metadata": {},
     "output_type": "display_data"
    },
    {
     "name": "stdout",
     "output_type": "stream",
     "text": [
      "Standard deviation: 89.4873547163\n",
      "Variance:  8007.98665412\n"
     ]
    }
   ],
   "source": [
    "import numpy as np\n",
    "import matplotlib.pyplot as plot\n",
    "\n",
    "incomes = np.random.normal(100, 89.0, 10000)\n",
    "plot.hist(incomes, 50)\n",
    "plot.show()\n",
    "\n",
    "print \"Standard deviation:\", incomes.std()\n",
    "print \"Variance: \", incomes.var()"
   ]
  }
 ],
 "metadata": {
  "kernelspec": {
   "display_name": "Python 2",
   "language": "python",
   "name": "python2"
  },
  "language_info": {
   "codemirror_mode": {
    "name": "ipython",
    "version": 2
   },
   "file_extension": ".py",
   "mimetype": "text/x-python",
   "name": "python",
   "nbconvert_exporter": "python",
   "pygments_lexer": "ipython2",
   "version": "2.7.6"
  }
 },
 "nbformat": 4,
 "nbformat_minor": 0
}
