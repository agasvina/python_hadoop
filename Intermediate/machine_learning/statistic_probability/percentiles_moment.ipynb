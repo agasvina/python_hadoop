{
 "cells": [
  {
   "cell_type": "markdown",
   "metadata": {},
   "source": [
    "# Percentiles\n",
    "* Suppose you are the fourth tallest person in a group of 20\n",
    "* 80% people are shorter than you\n",
    "* that means you are the **80th percentiles**\n",
    "* if your height is 1.65m, \"1.65m\" is the **80th percentiles** height in that group "
   ]
  },
  {
   "cell_type": "code",
   "execution_count": 1,
   "metadata": {
    "collapsed": false
   },
   "outputs": [
    {
     "data": {
      "image/png": "[encoded data removed]",
      "text/plain": [
       "<matplotlib.figure.Figure at 0x110015810>"
      ]
     },
     "metadata": {},
     "output_type": "display_data"
    }
   ],
   "source": [
    "%matplotlib inline\n",
    "import numpy as np\n",
    "import matplotlib.pyplot as plot\n",
    "\n",
    "values = np.random.normal(10, 15, 10000)\n",
    "\n",
    "plot.hist(values, 88)\n",
    "plot.show()"
   ]
  },
  {
   "cell_type": "code",
   "execution_count": 2,
   "metadata": {
    "collapsed": false
   },
   "outputs": [
    {
     "name": "stdout",
     "output_type": "stream",
     "text": [
      "50th percentiles: 10.1707035794\n"
     ]
    }
   ],
   "source": [
    "print \"50th percentiles:\", np.percentile(values, 50)"
   ]
  },
  {
   "cell_type": "markdown",
   "metadata": {},
   "source": [
    "# Moments : Mean, Variance, Skew, Kurtosis"
   ]
  },
  {
   "cell_type": "code",
   "execution_count": 3,
   "metadata": {
    "collapsed": false
   },
   "outputs": [
    {
     "name": "stdout",
     "output_type": "stream",
     "text": [
      "First moment: 9.9783026497\n"
     ]
    }
   ],
   "source": [
    "#The first moment is mean, the value should be around 10\n",
    "print \"First moment:\", np.mean(values)"
   ]
  },
  {
   "cell_type": "code",
   "execution_count": 4,
   "metadata": {
    "collapsed": false
   },
   "outputs": [
    {
     "name": "stdout",
     "output_type": "stream",
     "text": [
      "second moment: 224.05836991\n"
     ]
    }
   ],
   "source": [
    "#The second moment is variance\n",
    "print \"second moment:\", np.var(values)"
   ]
  },
  {
   "cell_type": "code",
   "execution_count": 5,
   "metadata": {
    "collapsed": false
   },
   "outputs": [
    {
     "name": "stdout",
     "output_type": "stream",
     "text": [
      "third moment: -0.0248338851283\n"
     ]
    }
   ],
   "source": [
    "#The third moment is skew\n",
    "#How \"loopsided\" is the distribution\n",
    "#A distribution with a longer tail on the left will be skewed left,\n",
    "#This distribution has a negative skew\n",
    "import scipy.stats as sp\n",
    "print \"third moment:\",sp.skew(values)"
   ]
  },
  {
   "cell_type": "code",
   "execution_count": 6,
   "metadata": {
    "collapsed": false
   },
   "outputs": [
    {
     "name": "stdout",
     "output_type": "stream",
     "text": [
      "kurtosis: 0.0348276315926\n"
     ]
    }
   ],
   "source": [
    "#The fourth moment is kurtosis\n",
    "#How thick is the tail?\n",
    "#How sharp is the peak, compared to a normal distribution \n",
    "#Higher peaks have higher kurtosis\n",
    "#For a normal distribution, this is 0\n",
    "print \"kurtosis:\", sp.kurtosis(values)"
   ]
  }
 ],
 "metadata": {
  "kernelspec": {
   "display_name": "Python 2",
   "language": "python",
   "name": "python2"
  },
  "language_info": {
   "codemirror_mode": {
    "name": "ipython",
    "version": 2
   },
   "file_extension": ".py",
   "mimetype": "text/x-python",
   "name": "python",
   "nbconvert_exporter": "python",
   "pygments_lexer": "ipython2",
   "version": "2.7.6"
  }
 },
 "nbformat": 4,
 "nbformat_minor": 0
}
