{
 "cells": [
  {
   "cell_type": "code",
   "execution_count": 1,
   "metadata": {
    "collapsed": false
   },
   "outputs": [
    {
     "name": "stdout",
     "output_type": "stream",
     "text": [
      "/Users/luca/git/python_hadoop/DataScience\n"
     ]
    }
   ],
   "source": [
    "import os\n",
    "print os.getcwd()"
   ]
  },
  {
   "cell_type": "code",
   "execution_count": 2,
   "metadata": {
    "collapsed": false
   },
   "outputs": [
    {
     "name": "stdout",
     "output_type": "stream",
     "text": [
      "1\n",
      "2\n",
      "3\n",
      "4\n"
     ]
    }
   ],
   "source": [
    "listOfNumber = [1,2,3,4]\n",
    "\n",
    "for number in listOfNumber:\n",
    "    print number"
   ]
  },
  {
   "cell_type": "code",
   "execution_count": 5,
   "metadata": {
    "collapsed": false
   },
   "outputs": [
    {
     "name": "stdout",
     "output_type": "stream",
     "text": [
      "[ 31.78288627  20.55431707  24.34032407  23.54210978  23.37005661\n",
      "  21.69659185  32.69618566  23.2453365   30.99750475  34.69635725]\n"
     ]
    }
   ],
   "source": [
    "import numpy as np\n",
    "\n",
    "A = np.random.normal(25.0, 5.0, 10)\n",
    "print A"
   ]
  },
  {
   "cell_type": "code",
   "execution_count": 12,
   "metadata": {
    "collapsed": false
   },
   "outputs": [
    {
     "name": "stdout",
     "output_type": "stream",
     "text": [
      "6\n",
      "[1, 2, 3]\n",
      "[5, 6]\n",
      "[1, 2, 3, 4, 5, 6, 7, 8]\n",
      "[[1, 2, 3, 4, 5, 6, 7, 8, 9], [1, 2, 3, 4, 5, 6, 7, 8, 9]]\n",
      "[-3, -2, -1, 1, 2, 3, 4, 5, 6, 7, 8, 9]\n"
     ]
    }
   ],
   "source": [
    "#This is a List:\n",
    "x = [1,2,3,4,5,6]\n",
    "print len(x)\n",
    "#geting the last 3 elements\n",
    "print x[:3]\n",
    "#getting last 2 elements\n",
    "print x[-2:]\n",
    "#extending List:\n",
    "x.extend([7,8])\n",
    "print x\n",
    "#appending on element:\n",
    "x.append(9)\n",
    "\n",
    "listOfList = [x,x]\n",
    "print listOfList\n",
    "\n",
    "x.extend([-1,-2,-3])\n",
    "#Sorting the list\n",
    "x.sort()\n",
    "print x"
   ]
  },
  {
   "cell_type": "code",
   "execution_count": 16,
   "metadata": {
    "collapsed": false
   },
   "outputs": [
    {
     "name": "stdout",
     "output_type": "stream",
     "text": [
      "4\n",
      "16  120000\n"
     ]
    }
   ],
   "source": [
    "#Tuples (like list but immutable)\n",
    "x = (2,3,4)\n",
    "print x[2]\n",
    "\n",
    "#something interesting here:\n",
    "(age, income) = \"16, 120000\".split(',')\n",
    "print age, income"
   ]
  },
  {
   "cell_type": "code",
   "execution_count": 23,
   "metadata": {
    "collapsed": false
   },
   "outputs": [
    {
     "name": "stdout",
     "output_type": "stream",
     "text": [
      "Captain America\n",
      "Not Found!\n"
     ]
    }
   ],
   "source": [
    "#Dictionaries...\n",
    "# {} indicates the empty dictionary\n",
    "heroes = {}\n",
    "heroes[\"Captain\"] = \"Captain America\"\n",
    "\n",
    "print heroes[\"Captain\"]\n",
    "#To safely retrieve the data (without throwing an exception):\n",
    "if(heroes.get(\"none\") == None):\n",
    "    print \"Not Found!\""
   ]
  },
  {
   "cell_type": "code",
   "execution_count": 26,
   "metadata": {
    "collapsed": false
   },
   "outputs": [
    {
     "name": "stdout",
     "output_type": "stream",
     "text": [
      "4\n",
      "9\n",
      "6\n"
     ]
    }
   ],
   "source": [
    "#Function:\n",
    "def SquareIt(x):\n",
    "    return x*x\n",
    "\n",
    "print SquareIt(2)\n",
    "\n",
    "#You can pass around the function\n",
    "def doSomething(f,x):\n",
    "    return f(x)\n",
    "\n",
    "print doSomething(SquareIt, 3)\n",
    "\n",
    "#using lambda; this is really cool. \n",
    "print doSomething(lambda x: x+x, 3)"
   ]
  },
  {
   "cell_type": "code",
   "execution_count": 30,
   "metadata": {
    "collapsed": false
   },
   "outputs": [
    {
     "name": "stdout",
     "output_type": "stream",
     "text": [
      "False\n",
      "True\n",
      "False\n",
      "False\n",
      "Hello world\n"
     ]
    }
   ],
   "source": [
    "#Boolean\n",
    "\n",
    "print 1 == 3\n",
    "print (True or False)\n",
    "print (True and False)\n",
    "print 1 is 3\n",
    "\n",
    "if 1 is 3:\n",
    "    print \"Are you crazy?\"\n",
    "elif 1>3:\n",
    "    print \"NAH!\"\n",
    "else:\n",
    "    print \"Hello world\""
   ]
  },
  {
   "cell_type": "code",
   "execution_count": 31,
   "metadata": {
    "collapsed": false
   },
   "outputs": [
    {
     "name": "stdout",
     "output_type": "stream",
     "text": [
      "0\n",
      "2\n",
      "3\n",
      "4\n",
      "5\n",
      "6\n"
     ]
    }
   ],
   "source": [
    "for x in range(10):\n",
    "    if(x is 1):\n",
    "        continue\n",
    "    print x\n",
    "    if(x>5):\n",
    "        break"
   ]
  },
  {
   "cell_type": "code",
   "execution_count": 32,
   "metadata": {
    "collapsed": false
   },
   "outputs": [
    {
     "name": "stdout",
     "output_type": "stream",
     "text": [
      "0\n",
      "3\n",
      "6\n",
      "9\n"
     ]
    }
   ],
   "source": [
    "x = 0\n",
    "while (x<10):\n",
    "    print x\n",
    "    x += 3"
   ]
  },
  {
   "cell_type": "code",
   "execution_count": 37,
   "metadata": {
    "collapsed": false
   },
   "outputs": [
    {
     "name": "stdout",
     "output_type": "stream",
     "text": [
      "[0, 8, 6, 2, 2]\n"
     ]
    }
   ],
   "source": [
    "from random import randint\n",
    "list = []\n",
    "for i in range(10):\n",
    "    list.append(randint(0,9))\n",
    "\n",
    "def filterList(list):\n",
    "    result = []\n",
    "    for s in list:\n",
    "        if(int(s) % 2 == 0):\n",
    "            result.append(s)\n",
    "    return result\n",
    "\n",
    "print filterList(list)"
   ]
  },
  {
   "cell_type": "code",
   "execution_count": null,
   "metadata": {
    "collapsed": true
   },
   "outputs": [],
   "source": []
  }
 ],
 "metadata": {
  "kernelspec": {
   "display_name": "Python 2",
   "language": "python",
   "name": "python2"
  },
  "language_info": {
   "codemirror_mode": {
    "name": "ipython",
    "version": 2
   },
   "file_extension": ".py",
   "mimetype": "text/x-python",
   "name": "python",
   "nbconvert_exporter": "python",
   "pygments_lexer": "ipython2",
   "version": "2.7.6"
  }
 },
 "nbformat": 4,
 "nbformat_minor": 0
}
